{
 "cells": [
  {
   "cell_type": "code",
   "execution_count": 1,
   "id": "134ef004",
   "metadata": {},
   "outputs": [],
   "source": [
    "l = [3,4,5,6,7,[23,456,67,8,78,78],[345,56,87,8,98,9],(234,6657,6),{\"key1\":\"sudh\",234:[23,45,656]}]"
   ]
  },
  {
   "cell_type": "markdown",
   "id": "1545ab8f",
   "metadata": {},
   "source": [
    "Question 1: Try to reverse a list"
   ]
  },
  {
   "cell_type": "markdown",
   "id": "7ac2925e",
   "metadata": {},
   "source": [
    "We can't reverse the above list as it contains tuples and dict which are immutable. We can see so in the following example then the operation on a sample list."
   ]
  },
  {
   "cell_type": "code",
   "execution_count": 2,
   "id": "a829198a",
   "metadata": {},
   "outputs": [
    {
     "ename": "TypeError",
     "evalue": "'<' not supported between instances of 'tuple' and 'dict'",
     "output_type": "error",
     "traceback": [
      "\u001b[1;31m---------------------------------------------------------------------------\u001b[0m",
      "\u001b[1;31mTypeError\u001b[0m                                 Traceback (most recent call last)",
      "\u001b[1;32m<ipython-input-2-27fdda638e8d>\u001b[0m in \u001b[0;36m<module>\u001b[1;34m\u001b[0m\n\u001b[1;32m----> 1\u001b[1;33m \u001b[0ml\u001b[0m\u001b[1;33m.\u001b[0m\u001b[0msort\u001b[0m\u001b[1;33m(\u001b[0m\u001b[0mreverse\u001b[0m\u001b[1;33m=\u001b[0m\u001b[1;32mTrue\u001b[0m\u001b[1;33m)\u001b[0m\u001b[1;33m\u001b[0m\u001b[1;33m\u001b[0m\u001b[0m\n\u001b[0m",
      "\u001b[1;31mTypeError\u001b[0m: '<' not supported between instances of 'tuple' and 'dict'"
     ]
    }
   ],
   "source": [
    "l.sort(reverse=True)"
   ]
  },
  {
   "cell_type": "code",
   "execution_count": null,
   "id": "df4dd60e",
   "metadata": {},
   "outputs": [],
   "source": [
    "l1 = [4,6,9,1,5]\n",
    "l1.sort(reverse=True)\n",
    "l1"
   ]
  },
  {
   "cell_type": "markdown",
   "id": "456886ba",
   "metadata": {},
   "source": [
    "Question 2: Try to access 234 out of the list provided"
   ]
  },
  {
   "cell_type": "markdown",
   "id": "a670ccd2",
   "metadata": {},
   "source": [
    "As the number lies in the seventh element(starting from 0) on the first element, we can place the indexes [7][0]."
   ]
  },
  {
   "cell_type": "code",
   "execution_count": null,
   "id": "a78a6d8a",
   "metadata": {},
   "outputs": [],
   "source": [
    "l[7][0]"
   ]
  },
  {
   "cell_type": "markdown",
   "id": "1c7796b8",
   "metadata": {},
   "source": [
    "Question 3: Try to access 456"
   ]
  },
  {
   "cell_type": "markdown",
   "id": "ed863369",
   "metadata": {},
   "source": [
    "As the number lies in the fifth element(starting from 0) on the second element, we can place the indexes [5][1]."
   ]
  },
  {
   "cell_type": "code",
   "execution_count": null,
   "id": "fa0d22ff",
   "metadata": {},
   "outputs": [],
   "source": [
    "l[5][1]"
   ]
  },
  {
   "cell_type": "markdown",
   "id": "3df35395",
   "metadata": {},
   "source": [
    "Question 4: Try to extrace only a list collection from the given list"
   ]
  },
  {
   "cell_type": "markdown",
   "id": "60801c18",
   "metadata": {},
   "source": [
    "As the sixth element in the list is a list, we display the same using index [6]"
   ]
  },
  {
   "cell_type": "code",
   "execution_count": null,
   "id": "d87557e0",
   "metadata": {},
   "outputs": [],
   "source": [
    "l[6]"
   ]
  },
  {
   "cell_type": "markdown",
   "id": "4a394b0b",
   "metadata": {},
   "source": [
    "Question 5: Try to extract \"sudh\""
   ]
  },
  {
   "cell_type": "code",
   "execution_count": null,
   "id": "c2c14af0",
   "metadata": {},
   "outputs": [],
   "source": [
    "l[8]['key1']"
   ]
  },
  {
   "cell_type": "markdown",
   "id": "e33368a9",
   "metadata": {},
   "source": [
    "The only difference between here and the other elements is that in dictionary, you can't call using indexes as it doesn't have one. Instead you use the key in the key-value pairs."
   ]
  },
  {
   "cell_type": "markdown",
   "id": "c911c398",
   "metadata": {},
   "source": [
    "Question 6: Try to list all the keys in dict element availabe in list"
   ]
  },
  {
   "cell_type": "code",
   "execution_count": 10,
   "id": "b0e5e236",
   "metadata": {},
   "outputs": [
    {
     "name": "stdout",
     "output_type": "stream",
     "text": [
      "key1\n",
      "234\n"
     ]
    }
   ],
   "source": [
    "\n",
    "for i in l:\n",
    "    if type(i) == dict:\n",
    "        for j in i:\n",
    "            print(j)"
   ]
  },
  {
   "cell_type": "markdown",
   "id": "474100bc",
   "metadata": {},
   "source": [
    "We simple call the position where the dict lies i.e [8]th position"
   ]
  },
  {
   "cell_type": "markdown",
   "id": "d2aa2881",
   "metadata": {},
   "source": [
    "Question 7: Try to extract all the value element from dict availabe in list."
   ]
  },
  {
   "cell_type": "code",
   "execution_count": 15,
   "id": "f79cb928",
   "metadata": {},
   "outputs": [
    {
     "name": "stdout",
     "output_type": "stream",
     "text": [
      "sudh\n",
      "[23, 45, 656]\n"
     ]
    }
   ],
   "source": [
    "\n",
    "for i in l:\n",
    "    if type(i) == dict:\n",
    "        for j in i:\n",
    "            print(i[j])"
   ]
  },
  {
   "cell_type": "markdown",
   "id": "c7358743",
   "metadata": {},
   "source": [
    "we use the keys() function to display all the keys "
   ]
  }
 ],
 "metadata": {
  "kernelspec": {
   "display_name": "Python 3",
   "language": "python",
   "name": "python3"
  },
  "language_info": {
   "codemirror_mode": {
    "name": "ipython",
    "version": 3
   },
   "file_extension": ".py",
   "mimetype": "text/x-python",
   "name": "python",
   "nbconvert_exporter": "python",
   "pygments_lexer": "ipython3",
   "version": "3.8.8"
  }
 },
 "nbformat": 4,
 "nbformat_minor": 5
}
