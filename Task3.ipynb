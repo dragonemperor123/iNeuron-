{
 "cells": [
  {
   "cell_type": "markdown",
   "id": "d6d18af9",
   "metadata": {},
   "source": [
    "Task 3"
   ]
  },
  {
   "cell_type": "code",
   "execution_count": 1,
   "id": "8196b4af",
   "metadata": {},
   "outputs": [
    {
     "name": "stdout",
     "output_type": "stream",
     "text": [
      "iNeuron \n",
      "\n",
      "iNeuron iNeuron \n",
      "\n",
      "iNeuron iNeuron iNeuron \n",
      "\n",
      "iNeuron iNeuron iNeuron iNeuron \n",
      "\n"
     ]
    }
   ],
   "source": [
    "\n",
    "for i in range(4):\n",
    "    for j in range(0 ,i+1):\n",
    "        print(\"iNeuron\",end = \" \")\n",
    "    print(\"\\n\")    "
   ]
  },
  {
   "cell_type": "code",
   "execution_count": null,
   "id": "e2010cab",
   "metadata": {},
   "outputs": [],
   "source": []
  },
  {
   "cell_type": "code",
   "execution_count": 2,
   "id": "8e581ce8",
   "metadata": {},
   "outputs": [
    {
     "name": "stdout",
     "output_type": "stream",
     "text": [
      "                iNeuron \n",
      "\n",
      "        iNeuron iNeuron iNeuron  \n",
      "\n",
      "iNeuron iNeuron iNeuron iNeuron  iNeuron  \n",
      "\n",
      "\n",
      "\n",
      "\n",
      "\n",
      "\n",
      "\n"
     ]
    }
   ],
   "source": [
    "n=3\n",
    "for i in range(n):\n",
    "    for j in range(i,n-1):\n",
    "        print(\" \"*len(\"iNeuron\"),end = \" \")\n",
    "     \n",
    "    \n",
    "    for j in range(i+1):\n",
    "        print(\"iNeuron\",end = \" \")\n",
    "    for j in range (i):\n",
    "        print(\"iNeuron \",end = \" \")\n",
    "    print(\"\\n\")    \n",
    "for i in range(4,7):\n",
    "    for j in range(i+1,0):\n",
    "        print(\"iNeuron\",end = \" \")\n",
    "    print(\"\\n\")   \n",
    "    \n",
    "    "
   ]
  },
  {
   "cell_type": "code",
   "execution_count": 3,
   "id": "791c2cf3",
   "metadata": {},
   "outputs": [],
   "source": [
    "l = [[1,2,3,4],(2,3,4,5,6),(3,4,5,6,7),set([23,4,5,45,4,4,5,45,45,4,5]),{\"k1\":\"sudh\",\"k2\":\"iNeuron\",\"k3\":\"kumar\",3:6,7:8},[\"iNeuron\",\"data science\"]]"
   ]
  },
  {
   "cell_type": "markdown",
   "id": "9e7614c8",
   "metadata": {},
   "source": [
    "Question 3: Try to extract all the list entity"
   ]
  },
  {
   "cell_type": "code",
   "execution_count": 4,
   "id": "4915ab43",
   "metadata": {},
   "outputs": [
    {
     "name": "stdout",
     "output_type": "stream",
     "text": [
      "[1, 2, 3, 4]\n",
      "['iNeuron', 'data science']\n"
     ]
    }
   ],
   "source": [
    "for i in l:\n",
    "    if type(i) == list:\n",
    "        print(i)"
   ]
  },
  {
   "cell_type": "markdown",
   "id": "9b54e690",
   "metadata": {},
   "source": [
    "Question 4: Try to extract all the dict entities\n"
   ]
  },
  {
   "cell_type": "code",
   "execution_count": 5,
   "id": "e79ed93d",
   "metadata": {},
   "outputs": [
    {
     "name": "stdout",
     "output_type": "stream",
     "text": [
      "{'k1': 'sudh', 'k2': 'iNeuron', 'k3': 'kumar', 3: 6, 7: 8}\n"
     ]
    }
   ],
   "source": [
    "for i in l:\n",
    "    if type(i) == dict:\n",
    "        print(i)"
   ]
  },
  {
   "cell_type": "markdown",
   "id": "820a657a",
   "metadata": {},
   "source": [
    "Question 5: Try to extract all the tuple entities"
   ]
  },
  {
   "cell_type": "code",
   "execution_count": 6,
   "id": "e2621925",
   "metadata": {},
   "outputs": [
    {
     "name": "stdout",
     "output_type": "stream",
     "text": [
      "(2, 3, 4, 5, 6)\n",
      "(3, 4, 5, 6, 7)\n"
     ]
    }
   ],
   "source": [
    "for i in l:\n",
    "    if type(i) == tuple:\n",
    "        print(i)"
   ]
  },
  {
   "cell_type": "markdown",
   "id": "64a04713",
   "metadata": {},
   "source": [
    "Question 6: Try to extract all the numeric data. It may be in dict key and values."
   ]
  },
  {
   "cell_type": "code",
   "execution_count": 7,
   "id": "c86f9c80",
   "metadata": {},
   "outputs": [
    {
     "name": "stdout",
     "output_type": "stream",
     "text": [
      "1\n",
      "2\n",
      "3\n",
      "4\n",
      "2\n",
      "3\n",
      "4\n",
      "5\n",
      "6\n",
      "3\n",
      "4\n",
      "5\n",
      "6\n",
      "7\n",
      "45\n",
      "4\n",
      "5\n",
      "23\n",
      "3\n",
      "7\n"
     ]
    }
   ],
   "source": [
    "for i in l:\n",
    "    if type(i) == tuple or dict or list:\n",
    "        for j in i:\n",
    "            if type(j) == int:\n",
    "                print(j)\n",
    "                "
   ]
  },
  {
   "cell_type": "markdown",
   "id": "36ab16ce",
   "metadata": {},
   "source": [
    "Question 7: Try to give summation of all the numeric values"
   ]
  },
  {
   "cell_type": "code",
   "execution_count": null,
   "id": "30d67a72",
   "metadata": {},
   "outputs": [],
   "source": []
  },
  {
   "cell_type": "code",
   "execution_count": 8,
   "id": "df472550",
   "metadata": {},
   "outputs": [
    {
     "name": "stdout",
     "output_type": "stream",
     "text": [
      "142\n"
     ]
    }
   ],
   "source": [
    "m=0\n",
    "for i in l:\n",
    "    if type(i) == tuple or dict or list:\n",
    "        for j in i:\n",
    "            if type(j) == int:\n",
    "                m = m+j\n",
    "                \n",
    "print(m)                \n",
    "                \n"
   ]
  },
  {
   "cell_type": "code",
   "execution_count": null,
   "id": "0e187f33",
   "metadata": {},
   "outputs": [],
   "source": []
  },
  {
   "cell_type": "markdown",
   "id": "d2b2ba10",
   "metadata": {},
   "source": [
    "Question 8: Try to filter out all the odd values out of the numeric data which is a part of the list"
   ]
  },
  {
   "cell_type": "code",
   "execution_count": 9,
   "id": "f91d3edb",
   "metadata": {},
   "outputs": [
    {
     "name": "stdout",
     "output_type": "stream",
     "text": [
      "1\n",
      "3\n",
      "3\n",
      "5\n",
      "3\n",
      "5\n",
      "7\n",
      "45\n",
      "5\n",
      "23\n",
      "3\n",
      "7\n"
     ]
    }
   ],
   "source": [
    "l1 = []\n",
    "for i in l:\n",
    "    if type(i) == tuple or dict or list:\n",
    "        for j in i:\n",
    "            if type(j) == int:\n",
    "                if (j%2!=0):\n",
    "                    print(j)\n",
    "                \n"
   ]
  },
  {
   "cell_type": "markdown",
   "id": "0a1bd1be",
   "metadata": {},
   "source": [
    "Question 9: Try to extract \"iNeuron\" out of this Data "
   ]
  },
  {
   "cell_type": "code",
   "execution_count": 10,
   "id": "30553288",
   "metadata": {},
   "outputs": [
    {
     "name": "stdout",
     "output_type": "stream",
     "text": [
      "k2\n",
      "iNeuron\n"
     ]
    },
    {
     "ename": "TypeError",
     "evalue": "list indices must be integers or slices, not str",
     "output_type": "error",
     "traceback": [
      "\u001b[1;31m---------------------------------------------------------------------------\u001b[0m",
      "\u001b[1;31mTypeError\u001b[0m                                 Traceback (most recent call last)",
      "\u001b[1;32m<ipython-input-10-ed879fad56d2>\u001b[0m in \u001b[0;36m<module>\u001b[1;34m\u001b[0m\n\u001b[0;32m      4\u001b[0m         \u001b[1;32mfor\u001b[0m \u001b[0mj\u001b[0m \u001b[1;32min\u001b[0m \u001b[0mi\u001b[0m\u001b[1;33m:\u001b[0m\u001b[1;33m\u001b[0m\u001b[1;33m\u001b[0m\u001b[0m\n\u001b[0;32m      5\u001b[0m             \u001b[1;32mif\u001b[0m \u001b[0mtype\u001b[0m\u001b[1;33m(\u001b[0m\u001b[0mj\u001b[0m\u001b[1;33m)\u001b[0m \u001b[1;33m==\u001b[0m \u001b[0mstr\u001b[0m\u001b[1;33m:\u001b[0m\u001b[1;33m\u001b[0m\u001b[1;33m\u001b[0m\u001b[0m\n\u001b[1;32m----> 6\u001b[1;33m                 \u001b[1;32mif\u001b[0m \u001b[1;33m(\u001b[0m\u001b[0mj\u001b[0m\u001b[1;33m==\u001b[0m\u001b[1;34m\"iNeuron\"\u001b[0m\u001b[1;32mor\u001b[0m \u001b[0mi\u001b[0m\u001b[1;33m[\u001b[0m\u001b[0mj\u001b[0m\u001b[1;33m]\u001b[0m\u001b[1;33m==\u001b[0m\u001b[1;34m'iNeuron'\u001b[0m\u001b[1;33m)\u001b[0m\u001b[1;33m:\u001b[0m\u001b[1;33m\u001b[0m\u001b[1;33m\u001b[0m\u001b[0m\n\u001b[0m\u001b[0;32m      7\u001b[0m                     \u001b[0mprint\u001b[0m\u001b[1;33m(\u001b[0m\u001b[0mj\u001b[0m\u001b[1;33m)\u001b[0m\u001b[1;33m\u001b[0m\u001b[1;33m\u001b[0m\u001b[0m\n\u001b[0;32m      8\u001b[0m \u001b[1;33m\u001b[0m\u001b[0m\n",
      "\u001b[1;31mTypeError\u001b[0m: list indices must be integers or slices, not str"
     ]
    }
   ],
   "source": [
    "l1 = []\n",
    "for i in l:\n",
    "    if type(i) == tuple or dict or list:\n",
    "        for j in i:\n",
    "            if type(j) == str:\n",
    "                if (j==\"iNeuron\"or i[j]=='iNeuron'):\n",
    "                    print(j)\n",
    "                \n"
   ]
  },
  {
   "cell_type": "markdown",
   "id": "38ed40db",
   "metadata": {},
   "source": [
    "Question 10: Try to find out the number of occurences of all the data"
   ]
  },
  {
   "cell_type": "code",
   "execution_count": null,
   "id": "94fbe7be",
   "metadata": {},
   "outputs": [],
   "source": [
    "a=0\n",
    "b=0\n",
    "c=0\n",
    "for i in l:\n",
    "    if type(i) == tuple:\n",
    "        a = a+1\n",
    "    if type(i) == list:\n",
    "        b = b+1\n",
    "    if type(i) == dict:\n",
    "        c = c+1\n",
    "print(\"Values of a,b,c are as follows : a is tuple;b is list;c is dict:\",a,b,c)        "
   ]
  },
  {
   "cell_type": "markdown",
   "id": "3a624b25",
   "metadata": {},
   "source": [
    "Question 11: try to find out number of keys in dict element"
   ]
  },
  {
   "cell_type": "code",
   "execution_count": null,
   "id": "49826624",
   "metadata": {},
   "outputs": [],
   "source": [
    "a = 0\n",
    "for i in l:\n",
    "    if type(i) == dict:\n",
    "        for j in i:\n",
    "            a = a+1\n",
    "            \n",
    "print(\"Number of keys:\",a)            "
   ]
  },
  {
   "cell_type": "markdown",
   "id": "d3edb95e",
   "metadata": {},
   "source": [
    "Question 12: Try to filter out all the string data"
   ]
  },
  {
   "cell_type": "code",
   "execution_count": 11,
   "id": "0535dfa0",
   "metadata": {},
   "outputs": [
    {
     "name": "stdout",
     "output_type": "stream",
     "text": [
      "k1\n",
      "k2\n",
      "k3\n",
      "iNeuron\n",
      "data science\n"
     ]
    }
   ],
   "source": [
    "for i in l:\n",
    "    if type(i) == list or dict or tuple:\n",
    "        for j in i:\n",
    "            if type(j) == str:\n",
    "                print(j)\n",
    "            "
   ]
  },
  {
   "cell_type": "markdown",
   "id": "23366d4a",
   "metadata": {},
   "source": [
    "Question 13: Try to find out alphanum in data "
   ]
  },
  {
   "cell_type": "code",
   "execution_count": null,
   "id": "a072be28",
   "metadata": {},
   "outputs": [],
   "source": [
    "for i in l:\n",
    "    if type(i) == list or dict or tuple:\n",
    "        for j in i:\n",
    "            if type(j) == str and type(j) == int:\n",
    "                print(j)"
   ]
  },
  {
   "cell_type": "markdown",
   "id": "9a4ca467",
   "metadata": {},
   "source": [
    "as we get no output, thererefore no alphanumeric characters"
   ]
  },
  {
   "cell_type": "markdown",
   "id": "07335aba",
   "metadata": {},
   "source": [
    "Question 14:Try to find out the multiplication of all the numeric valuesin the individual collection inside dataset"
   ]
  },
  {
   "cell_type": "code",
   "execution_count": null,
   "id": "3f9457f2",
   "metadata": {},
   "outputs": [],
   "source": [
    "m = 1\n",
    "for i in l:\n",
    "    if type(i) == list or dict or tuple:\n",
    "        for j in i:\n",
    "            if type(j) == int:\n",
    "                m = m*j\n",
    "print(m)                "
   ]
  },
  {
   "cell_type": "markdown",
   "id": "c7026a03",
   "metadata": {},
   "source": [
    "Question 15: Try to unwrap all the collection inside collection and create a flat list"
   ]
  },
  {
   "cell_type": "code",
   "execution_count": null,
   "id": "d4e933a9",
   "metadata": {},
   "outputs": [],
   "source": [
    "l2 = []\n",
    "for i in l:\n",
    "    if type(i) == list or dict or tuple:\n",
    "        for j in i:\n",
    "            l2.append(j)\n",
    "print(l2)        \n",
    "    "
   ]
  },
  {
   "cell_type": "code",
   "execution_count": null,
   "id": "4602b1c9",
   "metadata": {},
   "outputs": [],
   "source": []
  }
 ],
 "metadata": {
  "kernelspec": {
   "display_name": "Python 3",
   "language": "python",
   "name": "python3"
  },
  "language_info": {
   "codemirror_mode": {
    "name": "ipython",
    "version": 3
   },
   "file_extension": ".py",
   "mimetype": "text/x-python",
   "name": "python",
   "nbconvert_exporter": "python",
   "pygments_lexer": "ipython3",
   "version": "3.8.8"
  }
 },
 "nbformat": 4,
 "nbformat_minor": 5
}
