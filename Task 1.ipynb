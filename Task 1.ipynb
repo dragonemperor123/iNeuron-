{
 "cells": [
  {
   "cell_type": "markdown",
   "id": "3a6ee4a5",
   "metadata": {},
   "source": [
    "Question 1: Try to extract data from index 1 to index 300 with a jump of 3\n"
   ]
  },
  {
   "cell_type": "code",
   "execution_count": 4,
   "id": "8804b12f",
   "metadata": {},
   "outputs": [
    {
     "name": "stdout",
     "output_type": "stream",
     "text": [
      "1\n",
      "4\n",
      "7\n",
      "10\n",
      "13\n",
      "16\n",
      "19\n",
      "22\n",
      "25\n",
      "28\n",
      "31\n",
      "34\n",
      "37\n",
      "40\n",
      "43\n",
      "46\n",
      "49\n",
      "52\n",
      "55\n",
      "58\n",
      "61\n",
      "64\n",
      "67\n",
      "70\n",
      "73\n",
      "76\n",
      "79\n",
      "82\n",
      "85\n",
      "88\n",
      "91\n",
      "94\n",
      "97\n",
      "100\n",
      "103\n",
      "106\n",
      "109\n",
      "112\n",
      "115\n",
      "118\n",
      "121\n",
      "124\n",
      "127\n",
      "130\n",
      "133\n",
      "136\n",
      "139\n",
      "142\n",
      "145\n",
      "148\n",
      "151\n",
      "154\n",
      "157\n",
      "160\n",
      "163\n",
      "166\n",
      "169\n",
      "172\n",
      "175\n",
      "178\n",
      "181\n",
      "184\n",
      "187\n",
      "190\n",
      "193\n",
      "196\n",
      "199\n",
      "202\n",
      "205\n",
      "208\n",
      "211\n",
      "214\n",
      "217\n",
      "220\n",
      "223\n",
      "226\n",
      "229\n",
      "232\n",
      "235\n",
      "238\n",
      "241\n",
      "244\n",
      "247\n",
      "250\n",
      "253\n",
      "256\n",
      "259\n",
      "262\n",
      "265\n",
      "268\n",
      "271\n",
      "274\n",
      "277\n",
      "280\n",
      "283\n",
      "286\n",
      "289\n",
      "292\n",
      "295\n",
      "298\n"
     ]
    }
   ],
   "source": [
    "for i in range(1,300,3):\n",
    "    print(i)"
   ]
  },
  {
   "cell_type": "markdown",
   "id": "868e2c76",
   "metadata": {},
   "source": [
    "Question 2: Try to reverse a string without using reverse function"
   ]
  },
  {
   "cell_type": "code",
   "execution_count": 26,
   "id": "a4f9da5b",
   "metadata": {},
   "outputs": [],
   "source": [
    "s = \"adwait\""
   ]
  },
  {
   "cell_type": "code",
   "execution_count": 27,
   "id": "2d976030",
   "metadata": {},
   "outputs": [
    {
     "data": {
      "text/plain": [
       "'tiawd'"
      ]
     },
     "execution_count": 27,
     "metadata": {},
     "output_type": "execute_result"
    }
   ],
   "source": [
    "s[5:0:-1]"
   ]
  },
  {
   "cell_type": "markdown",
   "id": "9b6c8728",
   "metadata": {},
   "source": [
    "Question 3: Try to split a string after conversion of entire string in uppercase"
   ]
  },
  {
   "cell_type": "code",
   "execution_count": 28,
   "id": "c172b869",
   "metadata": {},
   "outputs": [
    {
     "data": {
      "text/plain": [
       "'ADWAIT'"
      ]
     },
     "execution_count": 28,
     "metadata": {},
     "output_type": "execute_result"
    }
   ],
   "source": [
    "s.upper()"
   ]
  },
  {
   "cell_type": "code",
   "execution_count": 29,
   "id": "eb6c91eb",
   "metadata": {},
   "outputs": [
    {
     "data": {
      "text/plain": [
       "['ad', 'ait']"
      ]
     },
     "execution_count": 29,
     "metadata": {},
     "output_type": "execute_result"
    }
   ],
   "source": [
    "s.split(\"w\")"
   ]
  },
  {
   "cell_type": "markdown",
   "id": "6fe1902e",
   "metadata": {},
   "source": [
    "Question 4: try to convert the whole string to lowercase"
   ]
  },
  {
   "cell_type": "code",
   "execution_count": 30,
   "id": "b4548f6a",
   "metadata": {},
   "outputs": [
    {
     "data": {
      "text/plain": [
       "'adwait'"
      ]
     },
     "execution_count": 30,
     "metadata": {},
     "output_type": "execute_result"
    }
   ],
   "source": [
    "s.lower()"
   ]
  },
  {
   "cell_type": "markdown",
   "id": "ff03b3d0",
   "metadata": {},
   "source": [
    "Question 5: Try to capitalize a whole string"
   ]
  },
  {
   "cell_type": "code",
   "execution_count": null,
   "id": "60c771f1",
   "metadata": {},
   "outputs": [],
   "source": []
  },
  {
   "cell_type": "code",
   "execution_count": 31,
   "id": "bee45353",
   "metadata": {},
   "outputs": [
    {
     "data": {
      "text/plain": [
       "'adwait'"
      ]
     },
     "execution_count": 31,
     "metadata": {},
     "output_type": "execute_result"
    }
   ],
   "source": [
    "s"
   ]
  },
  {
   "cell_type": "markdown",
   "id": "e1d3d7c8",
   "metadata": {},
   "source": [
    "Question 6: Write the difference between isalnum() and isalpha()"
   ]
  },
  {
   "cell_type": "markdown",
   "id": "73efddd1",
   "metadata": {},
   "source": [
    "Answer:\n",
    "isalnum() checks if the character is alphanumeric i.e. it checks if the string contains alphabetic or numberic characters. If either of them is present, then isalnum() returns true\n",
    "\n",
    "isalpha() checks if the string provided contains alphabetic characters. If only alphabetic and nothing else exsts, then it returns true."
   ]
  },
  {
   "cell_type": "markdown",
   "id": "40084c7e",
   "metadata": {},
   "source": [
    "Question 7: Try to give an example of expand tab."
   ]
  },
  {
   "cell_type": "code",
   "execution_count": 34,
   "id": "7fc83271",
   "metadata": {},
   "outputs": [
    {
     "data": {
      "text/plain": [
       "'V       e       nt      o'"
      ]
     },
     "execution_count": 34,
     "metadata": {},
     "output_type": "execute_result"
    }
   ],
   "source": [
    "s1 = \"V\\te\\tnt\\to\"\n",
    "s1.expandtabs()"
   ]
  },
  {
   "cell_type": "markdown",
   "id": "f89e13ac",
   "metadata": {},
   "source": [
    "In the above example, we add \\t after every character that we want to expand after. "
   ]
  },
  {
   "cell_type": "markdown",
   "id": "adb3d0ac",
   "metadata": {},
   "source": [
    "Question 8: Give an example of strip, lstrip and rstrip"
   ]
  },
  {
   "cell_type": "code",
   "execution_count": 2,
   "id": "fd9c0f93",
   "metadata": {},
   "outputs": [
    {
     "data": {
      "text/plain": [
       "'addy  is  addy'"
      ]
     },
     "execution_count": 2,
     "metadata": {},
     "output_type": "execute_result"
    }
   ],
   "source": [
    "s2 = \"   addy  is  addy   \"\n",
    "s2.strip()"
   ]
  },
  {
   "cell_type": "code",
   "execution_count": 4,
   "id": "c74c00d8",
   "metadata": {},
   "outputs": [
    {
     "data": {
      "text/plain": [
       "'addy  is  addy   '"
      ]
     },
     "execution_count": 4,
     "metadata": {},
     "output_type": "execute_result"
    }
   ],
   "source": [
    "s2.lstrip()"
   ]
  },
  {
   "cell_type": "code",
   "execution_count": 5,
   "id": "0f2123e7",
   "metadata": {},
   "outputs": [
    {
     "data": {
      "text/plain": [
       "'   addy  is  addy'"
      ]
     },
     "execution_count": 5,
     "metadata": {},
     "output_type": "execute_result"
    }
   ],
   "source": [
    "s2.rstrip()"
   ]
  },
  {
   "cell_type": "markdown",
   "id": "6ec72d33",
   "metadata": {},
   "source": [
    "In the above examples, as we can see, the strip() function strips the string, therefore removes white spaces from both left and right sides. On the other hand, the lstrip() and rstrip() remove white spaces from the left and right sides respectively. None of them remove white spaces from the middle."
   ]
  },
  {
   "cell_type": "markdown",
   "id": "6b2e5218",
   "metadata": {},
   "source": [
    "Questin 9: Replace a string character with another character by taking your own example."
   ]
  },
  {
   "cell_type": "code",
   "execution_count": 15,
   "id": "f697d8f6",
   "metadata": {},
   "outputs": [
    {
     "name": "stdout",
     "output_type": "stream",
     "text": [
      "ancrew\n"
     ]
    }
   ],
   "source": [
    "s3 = \"andrew\"\n",
    "print(s3.replace('d','c',))"
   ]
  },
  {
   "cell_type": "markdown",
   "id": "b39c7534",
   "metadata": {},
   "source": [
    "In the above example, we use the replace() function to perform the character replacement. "
   ]
  },
  {
   "cell_type": "markdown",
   "id": "3cc9ec49",
   "metadata": {},
   "source": [
    "Question 10: Try to give definition of string center function and with an example."
   ]
  },
  {
   "cell_type": "code",
   "execution_count": 19,
   "id": "5b0c5e7d",
   "metadata": {},
   "outputs": [
    {
     "data": {
      "text/plain": [
       "'xxxxxxxanshulxxxxxxx'"
      ]
     },
     "execution_count": 19,
     "metadata": {},
     "output_type": "execute_result"
    }
   ],
   "source": [
    "s4 = 'anshul'\n",
    "s4.center(20,'x')"
   ]
  },
  {
   "cell_type": "markdown",
   "id": "f79d9943",
   "metadata": {},
   "source": [
    "In the above example, we see that the center() function has assigned 20 spaces to the string, keeping the string values in ther center as the name suggests and then replace all the whitespaces with the assigned symbol, x in this case."
   ]
  },
  {
   "cell_type": "markdown",
   "id": "9e5a85ae",
   "metadata": {},
   "source": [
    "Question 11: Write your own definition of compiler and interpreter without internet help"
   ]
  },
  {
   "cell_type": "markdown",
   "id": "08d918da",
   "metadata": {},
   "source": [
    "Compiler is a set of tools at our disposal which compilers the code to check for any errors or warnings.\n",
    "Interpreter on the other hand then executes the code and prints the output."
   ]
  },
  {
   "cell_type": "markdown",
   "id": "007ee389",
   "metadata": {},
   "source": [
    "Question 12: Python is an interpreted or compiled language? Give clear answer with your understanding."
   ]
  },
  {
   "cell_type": "markdown",
   "id": "0a8b674a",
   "metadata": {},
   "source": [
    "Python is made with C programming language and C is a compiled language. Therefore Python is also a compiled language"
   ]
  },
  {
   "cell_type": "markdown",
   "id": "693f0c9c",
   "metadata": {},
   "source": [
    "Question 14: Write a usecase of Python with your understanding"
   ]
  },
  {
   "cell_type": "markdown",
   "id": "3cbd70e5",
   "metadata": {},
   "source": [
    "Usecases:\n",
    "Making Machine Learning Prediction Models scikitlearn or other ML libraries\n",
    "Doing Exploratory Data Analysis using pandas library ad matplotlib\n",
    "Making games using python(like snake, pac-man etc.)"
   ]
  }
 ],
 "metadata": {
  "kernelspec": {
   "display_name": "Python 3",
   "language": "python",
   "name": "python3"
  },
  "language_info": {
   "codemirror_mode": {
    "name": "ipython",
    "version": 3
   },
   "file_extension": ".py",
   "mimetype": "text/x-python",
   "name": "python",
   "nbconvert_exporter": "python",
   "pygments_lexer": "ipython3",
   "version": "3.8.8"
  }
 },
 "nbformat": 4,
 "nbformat_minor": 5
}
